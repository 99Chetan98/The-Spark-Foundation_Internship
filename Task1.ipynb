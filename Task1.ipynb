{
 "cells": [
  {
   "cell_type": "markdown",
   "id": "e93cc54c",
   "metadata": {},
   "source": [
    "# Data Science and Business Analytics"
   ]
  },
  {
   "cell_type": "markdown",
   "id": "be4f1441",
   "metadata": {},
   "source": [
    "## Task : Prediction using Supervised ML"
   ]
  },
  {
   "cell_type": "markdown",
   "id": "1d1bbf13",
   "metadata": {},
   "source": [
    "## Author - Chetan Dnyaneshwar Mahajan"
   ]
  },
  {
   "cell_type": "markdown",
   "id": "f83ea73a",
   "metadata": {},
   "source": [
    "### Objective \n"
   ]
  },
  {
   "cell_type": "markdown",
   "id": "48c2dbfa",
   "metadata": {},
   "source": [
    "1) Predict the percentage of an student based on the no. of study hours.\n",
    "2) What will be predicted score if a student study for 9.25 hrs in a day?"
   ]
  },
  {
   "cell_type": "code",
   "execution_count": 1,
   "id": "28fa2b4b",
   "metadata": {},
   "outputs": [],
   "source": [
    "# Importing required libraries\n",
    "import pandas as pd\n",
    "import numpy as np\n",
    "import seaborn as sns\n",
    "import matplotlib.pyplot as plt\n",
    "%matplotlib inline"
   ]
  },
  {
   "cell_type": "markdown",
   "id": "19c78b0c",
   "metadata": {},
   "source": [
    "### Importing the dataset\n"
   ]
  },
  {
   "cell_type": "code",
   "execution_count": 2,
   "id": "d1b23f8b",
   "metadata": {},
   "outputs": [
    {
     "data": {
      "text/html": [
       "<div>\n",
       "<style scoped>\n",
       "    .dataframe tbody tr th:only-of-type {\n",
       "        vertical-align: middle;\n",
       "    }\n",
       "\n",
       "    .dataframe tbody tr th {\n",
       "        vertical-align: top;\n",
       "    }\n",
       "\n",
       "    .dataframe thead th {\n",
       "        text-align: right;\n",
       "    }\n",
       "</style>\n",
       "<table border=\"1\" class=\"dataframe\">\n",
       "  <thead>\n",
       "    <tr style=\"text-align: right;\">\n",
       "      <th></th>\n",
       "      <th>Hours</th>\n",
       "      <th>Scores</th>\n",
       "    </tr>\n",
       "  </thead>\n",
       "  <tbody>\n",
       "    <tr>\n",
       "      <th>0</th>\n",
       "      <td>2.5</td>\n",
       "      <td>21</td>\n",
       "    </tr>\n",
       "    <tr>\n",
       "      <th>1</th>\n",
       "      <td>5.1</td>\n",
       "      <td>47</td>\n",
       "    </tr>\n",
       "    <tr>\n",
       "      <th>2</th>\n",
       "      <td>3.2</td>\n",
       "      <td>27</td>\n",
       "    </tr>\n",
       "    <tr>\n",
       "      <th>3</th>\n",
       "      <td>8.5</td>\n",
       "      <td>75</td>\n",
       "    </tr>\n",
       "    <tr>\n",
       "      <th>4</th>\n",
       "      <td>3.5</td>\n",
       "      <td>30</td>\n",
       "    </tr>\n",
       "  </tbody>\n",
       "</table>\n",
       "</div>"
      ],
      "text/plain": [
       "   Hours  Scores\n",
       "0    2.5      21\n",
       "1    5.1      47\n",
       "2    3.2      27\n",
       "3    8.5      75\n",
       "4    3.5      30"
      ]
     },
     "execution_count": 2,
     "metadata": {},
     "output_type": "execute_result"
    }
   ],
   "source": [
    "url = \"https://raw.githubusercontent.com/AdiPersonalWorks/Random/master/student_scores%20-%20student_scores.csv\"\n",
    "df = pd.read_csv(url)\n",
    "df.head()"
   ]
  },
  {
   "cell_type": "markdown",
   "id": "a55fac3e",
   "metadata": {},
   "source": [
    "### Visualizing the dataset"
   ]
  },
  {
   "cell_type": "markdown",
   "id": "5669fea0",
   "metadata": {},
   "source": [
    "Our next step will be to plot the data for the two variables and see if we can observe any relationship between them."
   ]
  },
  {
   "cell_type": "code",
   "execution_count": 16,
   "id": "a8e4bda5",
   "metadata": {},
   "outputs": [
    {
     "data": {
      "image/png": "[encoded data removed]",
      "text/plain": [
       "<Figure size 720x432 with 1 Axes>"
      ]
     },
     "metadata": {
      "needs_background": "light"
     },
     "output_type": "display_data"
    }
   ],
   "source": [
    "# Plotting the dataset\n",
    "plt.rcParams[\"figure.figsize\"] = [10,6]\n",
    "df.plot(x='Hours', y='Scores', style='.', color='red', markersize=12)\n",
    "plt.title('Hours vs Percentage', fontsize=13)  \n",
    "plt.xlabel('Hours Studied', fontsize=13)  \n",
    "plt.ylabel('Percentage Score', fontsize=13)  \n",
    "plt.grid()\n"
   ]
  },
  {
   "cell_type": "raw",
   "id": "7808646f",
   "metadata": {},
   "source": [
    "We can observe in the graph above the linear correlation between \"Percentage Score\" and \"Hours Studied\". \n",
    "In this case, we can use the linear regression supervised machine learning model to predict futhur values."
   ]
  },
  {
   "cell_type": "markdown",
   "id": "123bfc40",
   "metadata": {},
   "source": [
    "### Preparing Data "
   ]
  },
  {
   "cell_type": "code",
   "execution_count": 11,
   "id": "bd336c18",
   "metadata": {},
   "outputs": [],
   "source": [
    "# Now let's split the data into attributes and labels\n",
    "X = df.iloc[:, :-1].values\n",
    "y = df.iloc[:, 1].values"
   ]
  },
  {
   "cell_type": "code",
   "execution_count": 12,
   "id": "d8aed44a",
   "metadata": {},
   "outputs": [],
   "source": [
    "# Spliting the data for training and testing\n",
    "from sklearn.model_selection import train_test_split \n",
    "X_train, X_test, y_train, y_test = train_test_split(X, y, test_size=0.2, random_state=0)"
   ]
  },
  {
   "cell_type": "markdown",
   "id": "4d4de213",
   "metadata": {},
   "source": [
    "### Training the Algorithm"
   ]
  },
  {
   "cell_type": "code",
   "execution_count": null,
   "id": "f82af28b",
   "metadata": {},
   "outputs": [],
   "source": [
    "# Now we will train our model\n",
    "from sklearn.linear_model import LinearRegression  \n",
    "model = LinearRegression()  \n",
    "model.fit(X_train, y_train)"
   ]
  },
  {
   "cell_type": "markdown",
   "id": "11b64509",
   "metadata": {},
   "source": [
    "### Visualizing the model\n"
   ]
  },
  {
   "cell_type": "code",
   "execution_count": 14,
   "id": "6a11ca63",
   "metadata": {},
   "outputs": [
    {
     "name": "stdout",
     "output_type": "stream",
     "text": [
      "Coefficient - [9.91065648]\n",
      "Intercept -  2.018160041434683\n"
     ]
    }
   ],
   "source": [
    "# After training the model, now its time to visualize it.\n",
    "print (\"Coefficient -\", model.coef_)\n",
    "print (\"Intercept - \", model.intercept_)"
   ]
  },
  {
   "cell_type": "code",
   "execution_count": 19,
   "id": "863b41f4",
   "metadata": {},
   "outputs": [
    {
     "data": {
      "image/png": "[encoded data removed]",
      "text/plain": [
       "<Figure size 720x432 with 1 Axes>"
      ]
     },
     "metadata": {
      "needs_background": "light"
     },
     "output_type": "display_data"
    }
   ],
   "source": [
    "# Plotting the linear regression line\n",
    "\n",
    "line = model.coef_*X + model.intercept_\n",
    "\n",
    "# Plotting for the training data\n",
    "plt.rcParams[\"figure.figsize\"] = [10,6]\n",
    "plt.scatter(X_train, y_train, color='red')\n",
    "plt.plot(X, line, color='black', markersize=13);\n",
    "plt.xlabel('Hours Studied', fontsize=13)  \n",
    "plt.ylabel('Percentage Score', fontsize=13) \n",
    "plt.grid()\n"
   ]
  },
  {
   "cell_type": "code",
   "execution_count": 20,
   "id": "37f67c02",
   "metadata": {},
   "outputs": [
    {
     "data": {
      "image/png": "[encoded data removed]",
      "text/plain": [
       "<Figure size 720x432 with 1 Axes>"
      ]
     },
     "metadata": {
      "needs_background": "light"
     },
     "output_type": "display_data"
    }
   ],
   "source": [
    "# Plotting for the testing data\n",
    "plt.rcParams[\"figure.figsize\"] = [10,6]\n",
    "plt.scatter(X_test, y_test, color='red')\n",
    "plt.plot(X, line, color='black', markersize=13);\n",
    "plt.xlabel('Hours Studied', fontsize=13)  \n",
    "plt.ylabel('Percentage Score', fontsize=13) \n",
    "plt.grid()"
   ]
  },
  {
   "cell_type": "code",
   "execution_count": 23,
   "id": "05a9e996",
   "metadata": {},
   "outputs": [
    {
     "name": "stdout",
     "output_type": "stream",
     "text": [
      "   Actual  Predicted\n",
      "0      20  16.884145\n",
      "1      27  33.732261\n",
      "2      69  75.357018\n",
      "3      30  26.794801\n",
      "4      62  60.491033\n"
     ]
    }
   ],
   "source": [
    "# Now it's time to make some predictions\n",
    "y_prediction=model.predict(X_test)\n",
    "df=pd.DataFrame({\"Actual\":y_test,\"Predicted\":y_prediction})\n",
    "print(df)"
   ]
  },
  {
   "cell_type": "code",
   "execution_count": 30,
   "id": "650e7556",
   "metadata": {},
   "outputs": [
    {
     "name": "stdout",
     "output_type": "stream",
     "text": [
      "No of Hours = [9.25]\n",
      "Predicted Score = 93.69173248737538\n"
     ]
    }
   ],
   "source": [
    "# Now testing model with our own data\n",
    "hours = [9.25]\n",
    "own_pred = model.predict([hours])\n",
    "print(\"No of Hours = {}\".format(hours))\n",
    "print(\"Predicted Score = {}\".format(own_pred[0]))"
   ]
  },
  {
   "cell_type": "markdown",
   "id": "b083ca91",
   "metadata": {},
   "source": [
    "### Evaluating the Model"
   ]
  },
  {
   "cell_type": "markdown",
   "id": "3138a86a",
   "metadata": {},
   "source": [
    "To compare how well different algorithms perform on the particular dataset, \n",
    "the final step is to evaluate the performance of the algorithm"
   ]
  },
  {
   "cell_type": "code",
   "execution_count": 34,
   "id": "aa44b963",
   "metadata": {},
   "outputs": [
    {
     "name": "stdout",
     "output_type": "stream",
     "text": [
      "Mean Squared Error: 21.5987693072174\n",
      "R-2 : 0.9454906892105356\n"
     ]
    }
   ],
   "source": [
    "from sklearn import metrics\n",
    "print('Mean Squared Error:', metrics.mean_squared_error(y_test, y_prediction))\n",
    "print('R-2 :', metrics.r2_score(y_test, y_prediction))"
   ]
  },
  {
   "cell_type": "markdown",
   "id": "da1cee3c",
   "metadata": {},
   "source": [
    "R-squared is a statistical measure that represents the goodness of fit of a regression model.\n",
    "This means that the algorithm has proven to be good for the given data with model's accuracy of 94.54%"
   ]
  }
 ],
 "metadata": {
  "kernelspec": {
   "display_name": "Python 3 (ipykernel)",
   "language": "python",
   "name": "python3"
  },
  "language_info": {
   "codemirror_mode": {
    "name": "ipython",
    "version": 3
   },
   "file_extension": ".py",
   "mimetype": "text/x-python",
   "name": "python",
   "nbconvert_exporter": "python",
   "pygments_lexer": "ipython3",
   "version": "3.9.12"
  }
 },
 "nbformat": 4,
 "nbformat_minor": 5
}
